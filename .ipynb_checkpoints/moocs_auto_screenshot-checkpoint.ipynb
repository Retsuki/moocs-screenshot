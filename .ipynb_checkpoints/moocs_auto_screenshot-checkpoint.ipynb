{
 "cells": [
  {
   "cell_type": "code",
   "execution_count": null,
   "metadata": {},
   "outputs": [],
   "source": [
    "import os\n",
    "import time\n",
    "import pyautogui as pg\n",
    "from selenium import webdriver\n",
    "from selenium.webdriver.chrome.options import Options\n",
    "from selenium.webdriver.common.desired_capabilities import DesiredCapabilities\n",
    "\n",
    "chromedriver_path = 'フルパス'"
   ]
  },
  {
   "cell_type": "code",
   "execution_count": null,
   "metadata": {},
   "outputs": [],
   "source": [
    "x1 = \"/html/body/div/div/div/div[2]/p[2]/a\"\n",
    "x2 = \"//*[@id='idToken1']\"\n",
    "x3 = \"//*[@id='idToken2']\" \n",
    "x4 = \"//*[@id='loginButton_0']\"\n",
    "x5 = \"//*[@id='content']/div/form/fieldset/div[2]/div[1]/button[2]\""
   ]
  },
  {
   "cell_type": "code",
   "execution_count": null,
   "metadata": {},
   "outputs": [],
   "source": [
    "login = \"//*[@id='yDmH0d']/c-wiz/div/div[2]/c-wiz/c-wiz/div/div[4]/div/div/c-wiz/section/article/div/div/div/div/div/div/div[4]/div/a\"\n",
    "email = \"//*[@id='identifierId']\"\n",
    "email_next = \"//*[@id='identifierNext']/span/span\"\n",
    "continue_ = \"//*[@id='view_container']/div/div/div[2]/div/div[2]/div/div[1]/div/span/span\""
   ]
  },
  {
   "cell_type": "code",
   "execution_count": null,
   "metadata": {},
   "outputs": [],
   "source": [
    "url = \"https://myaccount.google.com/intro?utm_source=OGB&tab=rk&utm_medium=app\" \n",
    "moocs = \"https://moocs.iniad.org/courses/2019/DS103/DM-02-03/02\" #moocs URLを指定して\n",
    "\n",
    "iniad_mail = \"@iniad.org\" #自分のINIADのメールアドレス入力させる\n",
    "ID = \"ID\" # INIADのID\n",
    "Password = \"Password\" # INIADのPassword\n",
    "\n",
    "make_dir = \"hoge\" # 作りたいディレクトリの名前\n",
    "if not os.path.exists(make_dir):\n",
    "    os.mkdir(make_dir) \n",
    "slide_count = ??? # スライドの枚数"
   ]
  },
  {
   "cell_type": "code",
   "execution_count": null,
   "metadata": {},
   "outputs": [],
   "source": [
    "options = Options()\n",
    "# options.add_argument('--headless')\n",
    "# options.add_argument('--disable-gpu')\n",
    "# options.add_argument('--no-sandbox')\n",
    "\n",
    "# capabilities = DesiredCapabilities.CHROME.copy()\n",
    "# capabilities['acceptInsecureCerts'] = True\n",
    "\n",
    "\n",
    "x = 567\n",
    "y = 200\n",
    "\n",
    "try:\n",
    "#     driver = webdriver.Chrome(executable_path=chromedriver_path,\n",
    "#                               options=options,\n",
    "#                               desired_capabilities=capabilities)\n",
    "    driver = webdriver.Chrome(executable_path=chromedriver_path)\n",
    "    driver.set_window_size(600, 600) #windowのsizeの指定　幅：高さ\n",
    "    driver.get(url) #一番最初のURLへ\n",
    "    print('clear1')\n",
    "    time.sleep(2) #sleepさせないとページ読み込み遅い時errorになる\n",
    "    driver.find_element_by_xpath(login).click()\n",
    "    print('clear2')\n",
    "    time.sleep(2)\n",
    "    print('clear3')\n",
    "    driver.find_element_by_xpath(email).send_keys(iniad_mail)\n",
    "    print('clear4')\n",
    "    driver.find_element_by_xpath(email_next).click()\n",
    "    print('clear5')\n",
    "    time.sleep(4)\n",
    "    driver.find_element_by_xpath(x2).send_keys(ID)\n",
    "    driver.find_element_by_xpath(x3).send_keys(Password)\n",
    "    driver.find_element_by_xpath(x4).click()\n",
    "    print('clear4')\n",
    "    time.sleep(3)\n",
    "    driver.find_element_by_xpath(continue_).click()\n",
    "    time.sleep(3)\n",
    "    driver.get(moocs)\n",
    "    time.sleep(2)\n",
    "    driver.find_element_by_xpath(x1).click()\n",
    "    time.sleep(2)\n",
    "    driver.find_element_by_xpath(x5).click()\n",
    "    time.sleep(5)\n",
    "    pg.moveTo(x, y)\n",
    "    pg.vscroll(-10)\n",
    "    time.sleep(1)\n",
    "    \"\"\"人によっては違うかもしれないので、カーソルの位置の設定\n",
    "    print(pg.position())\n",
    "    time.sleep(1)\n",
    "    print(pg.position())\n",
    "    time.sleep(1)\n",
    "    print(pg.position())\n",
    "    time.sleep(1)\n",
    "    print(pg.position())\n",
    "    time.sleep(1)\n",
    "    print(pg.position())\n",
    "    time.sleep(1)\n",
    "    \"\"\"\n",
    "    for i in range(slide_count):\n",
    "        time.sleep(1)\n",
    "        pg.screenshot('{0}/{1}.png'.format(make_dir, i), region=(0, 50, 1200, 1000)) #左上のx座標=0, 左上のy座標=50 の位置から幅300, 高さ=400\n",
    "        pg.click(x, y)\n",
    "    time.sleep(5)\n",
    "    driver.quit()\n",
    "except:\n",
    "    time.sleep(5)\n",
    "    driver.quit()"
   ]
  },
  {
   "cell_type": "code",
   "execution_count": null,
   "metadata": {},
   "outputs": [],
   "source": []
  },
  {
   "cell_type": "code",
   "execution_count": null,
   "metadata": {},
   "outputs": [],
   "source": []
  }
 ],
 "metadata": {
  "kernelspec": {
   "display_name": "Python 3",
   "language": "python",
   "name": "python3"
  },
  "language_info": {
   "codemirror_mode": {
    "name": "ipython",
    "version": 3
   },
   "file_extension": ".py",
   "mimetype": "text/x-python",
   "name": "python",
   "nbconvert_exporter": "python",
   "pygments_lexer": "ipython3",
   "version": "3.6.8"
  }
 },
 "nbformat": 4,
 "nbformat_minor": 2
}
